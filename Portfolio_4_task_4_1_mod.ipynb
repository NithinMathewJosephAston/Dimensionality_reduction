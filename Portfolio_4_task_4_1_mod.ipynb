{
 "cells": [
  {
   "cell_type": "code",
   "execution_count": 7,
   "id": "f4c65b04",
   "metadata": {},
   "outputs": [
    {
     "data": {
      "text/html": [
       "<div>\n",
       "<style scoped>\n",
       "    .dataframe tbody tr th:only-of-type {\n",
       "        vertical-align: middle;\n",
       "    }\n",
       "\n",
       "    .dataframe tbody tr th {\n",
       "        vertical-align: top;\n",
       "    }\n",
       "\n",
       "    .dataframe thead th {\n",
       "        text-align: right;\n",
       "    }\n",
       "</style>\n",
       "<table border=\"1\" class=\"dataframe\">\n",
       "  <thead>\n",
       "    <tr style=\"text-align: right;\">\n",
       "      <th></th>\n",
       "      <th>fixed acidity</th>\n",
       "      <th>volatile acidity</th>\n",
       "      <th>chlorides</th>\n",
       "      <th>free sulfur dioxide</th>\n",
       "      <th>total sulfur dioxide</th>\n",
       "      <th>pH</th>\n",
       "      <th>sulphates</th>\n",
       "      <th>alcohol</th>\n",
       "      <th>quality</th>\n",
       "    </tr>\n",
       "  </thead>\n",
       "  <tbody>\n",
       "    <tr>\n",
       "      <th>0</th>\n",
       "      <td>7.4</td>\n",
       "      <td>0.70</td>\n",
       "      <td>0.076</td>\n",
       "      <td>11.0</td>\n",
       "      <td>34.0</td>\n",
       "      <td>3.51</td>\n",
       "      <td>0.56</td>\n",
       "      <td>9.4</td>\n",
       "      <td>5</td>\n",
       "    </tr>\n",
       "    <tr>\n",
       "      <th>1</th>\n",
       "      <td>7.8</td>\n",
       "      <td>0.88</td>\n",
       "      <td>0.098</td>\n",
       "      <td>25.0</td>\n",
       "      <td>67.0</td>\n",
       "      <td>3.20</td>\n",
       "      <td>0.68</td>\n",
       "      <td>9.8</td>\n",
       "      <td>5</td>\n",
       "    </tr>\n",
       "    <tr>\n",
       "      <th>2</th>\n",
       "      <td>7.8</td>\n",
       "      <td>0.76</td>\n",
       "      <td>0.092</td>\n",
       "      <td>15.0</td>\n",
       "      <td>54.0</td>\n",
       "      <td>3.26</td>\n",
       "      <td>0.65</td>\n",
       "      <td>9.8</td>\n",
       "      <td>5</td>\n",
       "    </tr>\n",
       "    <tr>\n",
       "      <th>3</th>\n",
       "      <td>11.2</td>\n",
       "      <td>0.28</td>\n",
       "      <td>0.075</td>\n",
       "      <td>17.0</td>\n",
       "      <td>60.0</td>\n",
       "      <td>3.16</td>\n",
       "      <td>0.58</td>\n",
       "      <td>9.8</td>\n",
       "      <td>6</td>\n",
       "    </tr>\n",
       "    <tr>\n",
       "      <th>4</th>\n",
       "      <td>7.4</td>\n",
       "      <td>0.70</td>\n",
       "      <td>0.076</td>\n",
       "      <td>11.0</td>\n",
       "      <td>34.0</td>\n",
       "      <td>3.51</td>\n",
       "      <td>0.56</td>\n",
       "      <td>9.4</td>\n",
       "      <td>5</td>\n",
       "    </tr>\n",
       "  </tbody>\n",
       "</table>\n",
       "</div>"
      ],
      "text/plain": [
       "   fixed acidity  volatile acidity  chlorides  free sulfur dioxide  \\\n",
       "0            7.4              0.70      0.076                 11.0   \n",
       "1            7.8              0.88      0.098                 25.0   \n",
       "2            7.8              0.76      0.092                 15.0   \n",
       "3           11.2              0.28      0.075                 17.0   \n",
       "4            7.4              0.70      0.076                 11.0   \n",
       "\n",
       "   total sulfur dioxide    pH  sulphates  alcohol  quality  \n",
       "0                  34.0  3.51       0.56      9.4        5  \n",
       "1                  67.0  3.20       0.68      9.8        5  \n",
       "2                  54.0  3.26       0.65      9.8        5  \n",
       "3                  60.0  3.16       0.58      9.8        6  \n",
       "4                  34.0  3.51       0.56      9.4        5  "
      ]
     },
     "execution_count": 7,
     "metadata": {},
     "output_type": "execute_result"
    }
   ],
   "source": [
    "import numpy as np\n",
    "import pandas as pd\n",
    "import matplotlib.pyplot as plt\n",
    "from sklearn.decomposition import SparsePCA\n",
    "\n",
    "df = pd.read_csv('winequality-red-reduced.csv')\n",
    "df.head()"
   ]
  },
  {
   "cell_type": "markdown",
   "id": "57a2b27b",
   "metadata": {},
   "source": [
    "# Using Sparce principal component analysis :\n",
    "### based on 3 latent factors namely content, properties and quality"
   ]
  },
  {
   "cell_type": "code",
   "execution_count": 8,
   "id": "0d012aeb",
   "metadata": {},
   "outputs": [
    {
     "data": {
      "text/plain": [
       "array([[ 0.00000000e+00,  0.00000000e+00,  0.00000000e+00,\n",
       "         0.00000000e+00,  9.99995592e-01,  0.00000000e+00,\n",
       "         0.00000000e+00, -2.87406144e-03, -7.46111426e-04],\n",
       "       [ 0.00000000e+00,  0.00000000e+00,  0.00000000e+00,\n",
       "        -1.00000000e+00,  0.00000000e+00,  0.00000000e+00,\n",
       "         0.00000000e+00,  0.00000000e+00,  0.00000000e+00],\n",
       "       [-1.00000000e+00,  0.00000000e+00,  0.00000000e+00,\n",
       "         0.00000000e+00,  0.00000000e+00,  0.00000000e+00,\n",
       "         0.00000000e+00,  0.00000000e+00,  0.00000000e+00]])"
      ]
     },
     "execution_count": 8,
     "metadata": {},
     "output_type": "execute_result"
    }
   ],
   "source": [
    "transformer = SparsePCA(n_components=3, alpha=5, random_state=42)\n",
    "transformer.fit(df)\n",
    "# Fitting the data to the sparse PCA model\n",
    "transformer.components_\n",
    "# plt.bar(range(1,4), X_transformed, color='red')\n",
    "# plt.title(\"PCA visualized\")\n",
    "# plt.ylabel(\"Explained variance ratio\")\n",
    "# plt.xlabel(\"Principal Component\")\n",
    "# plt.xticks([1,2,3])\n",
    "# plt.show()"
   ]
  },
  {
   "cell_type": "markdown",
   "id": "1bde7139",
   "metadata": {},
   "source": [
    "### Since standard scaler is not used the values obtained cannot clearly explain the degree of influence on the features.\n",
    "### Here the only noticable inference we can take from this is, it indicates the features of interest"
   ]
  },
  {
   "cell_type": "code",
   "execution_count": 11,
   "id": "c005d33e",
   "metadata": {},
   "outputs": [
    {
     "data": {
      "text/plain": [
       "array([[ 4.25152529,  3.9105336 ,  1.61528287, ...,  3.30473231,\n",
       "         8.8235214 ,  6.19335498],\n",
       "       [ 4.48133747,  4.91609938,  2.08286475, ...,  4.01288923,\n",
       "         9.1989904 ,  6.19335498],\n",
       "       [ 4.48133747,  4.24572219,  1.95534242, ...,  3.83585   ,\n",
       "         9.1989904 ,  6.19335498],\n",
       "       ...,\n",
       "       [ 3.6195418 ,  2.84910305,  1.61528287, ...,  4.42598077,\n",
       "        10.32539739,  7.43202598],\n",
       "       [ 3.38972962,  3.60327739,  1.59402915, ...,  4.18992846,\n",
       "         9.57445939,  6.19335498],\n",
       "       [ 3.44718267,  1.73180774,  1.42399937, ...,  3.89486308,\n",
       "        10.32539739,  7.43202598]])"
      ]
     },
     "execution_count": 11,
     "metadata": {},
     "output_type": "execute_result"
    }
   ],
   "source": [
    "from sklearn.preprocessing import StandardScaler\n",
    "\n",
    "\n",
    "df = pd.read_csv('winequality-red-reduced.csv')\n",
    "scaler = StandardScaler(with_mean=0, with_std=1)\n",
    "scaler.fit(df)\n",
    "df = scaler.transform(df)\n",
    "scaler.mean_\n",
    "df"
   ]
  },
  {
   "cell_type": "markdown",
   "id": "9dd4dd44",
   "metadata": {},
   "source": [
    "# Standard scaler:\n",
    "### Scales the features to have mean 0 and variance 1 to give it a feel and properties of \"standard\" normal distribution"
   ]
  },
  {
   "cell_type": "code",
   "execution_count": 10,
   "id": "6203bdbe",
   "metadata": {},
   "outputs": [
    {
     "data": {
      "text/plain": [
       "array([[-0.6099484 ,  0.13974952, -0.28749865,  0.        ,  0.        ,\n",
       "         0.66393343, -0.25644816,  0.13857955,  0.        ],\n",
       "       [ 0.        ,  0.45608769,  0.07217093,  0.        ,  0.        ,\n",
       "         0.        , -0.19758447, -0.56528422, -0.6543619 ],\n",
       "       [ 0.        ,  0.        ,  0.        ,  0.70710678,  0.70710678,\n",
       "         0.        ,  0.        ,  0.        ,  0.        ]])"
      ]
     },
     "execution_count": 10,
     "metadata": {},
     "output_type": "execute_result"
    }
   ],
   "source": [
    "transformer = SparsePCA(n_components=3, alpha=5, random_state=42)\n",
    "transformer.fit(df)\n",
    "\n",
    "transformer.components_"
   ]
  },
  {
   "cell_type": "markdown",
   "id": "7d49917a",
   "metadata": {},
   "source": [
    "### The data obtained clearly captures the relationship between the features and we are able to distinguish the magnitude to which the latent variable has dependence on that feature better than when done without scaling."
   ]
  },
  {
   "cell_type": "markdown",
   "id": "7aa2a40a",
   "metadata": {},
   "source": [
    "### This also aligns with the colleagues theory that the non quality aspects of the dataset can be modelled using the three latent variables that is; content, properties and quality. Since we can observe from the components attribute that all the features have a dependency to atleast one latent variable i support the colleagues suggestion."
   ]
  }
 ],
 "metadata": {
  "kernelspec": {
   "display_name": "Python 3",
   "language": "python",
   "name": "python3"
  },
  "language_info": {
   "codemirror_mode": {
    "name": "ipython",
    "version": 3
   },
   "file_extension": ".py",
   "mimetype": "text/x-python",
   "name": "python",
   "nbconvert_exporter": "python",
   "pygments_lexer": "ipython3",
   "version": "3.8.8"
  }
 },
 "nbformat": 4,
 "nbformat_minor": 5
}

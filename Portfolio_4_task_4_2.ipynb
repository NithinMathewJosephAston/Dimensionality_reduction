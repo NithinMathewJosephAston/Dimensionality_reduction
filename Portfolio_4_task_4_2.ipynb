{
 "cells": [
  {
   "cell_type": "code",
   "execution_count": 18,
   "id": "7285f3a2",
   "metadata": {},
   "outputs": [
    {
     "name": "stdout",
     "output_type": "stream",
     "text": [
      "Train accuracy: 0.62\n",
      "Test accuracy: 0.57\n"
     ]
    }
   ],
   "source": [
    "import numpy as np\n",
    "import pandas as pd\n",
    "import seaborn as sns\n",
    "import matplotlib.pyplot as plt\n",
    "from sklearn.metrics import accuracy_score\n",
    "from sklearn.decomposition import PCA, SparsePCA\n",
    "from sklearn.linear_model import LinearRegression, LogisticRegression\n",
    "from sklearn.preprocessing import StandardScaler\n",
    "from sklearn.model_selection import train_test_split\n",
    "    \n",
    "if __name__ == '__main__':\n",
    "    df = pd.read_csv('winequality-red-full.csv')\n",
    "    x = df.drop(\"quality\", axis=1)\n",
    "    #Scaling the data for setting the mean to 0 and standard deviation to 1 \n",
    "    #Giving it a feel of a \"standard\" normal distribution\n",
    "    scaler = StandardScaler()\n",
    "    scaler.fit(x)\n",
    "    x = scaler.transform(x)\n",
    "    y = df[\"quality\"]\n",
    "    reg = LogisticRegression(max_iter = 2500)\n",
    "    #Using 80% data to train the model and 20% to test the data\n",
    "    X_train, X_test, y_train, y_test = train_test_split(x , y, test_size=0.20,random_state=42)\n",
    "    reg.fit(X_train, y_train)\n",
    "    y_pred = reg.predict(X_test)\n",
    "    print(\"Train accuracy:\", np.round(accuracy_score(y_train, reg.predict(X_train)), 2))\n",
    "    print(\"Test accuracy:\", np.round(accuracy_score(y_test, y_pred), 2))"
   ]
  },
  {
   "cell_type": "markdown",
   "id": "2f5a0cfb",
   "metadata": {},
   "source": [
    "## Applied logistic regression as the quality of the wine is categorical\n",
    "### When applying logistic regression the accuracy obtained is 0.57 for the fullset data"
   ]
  },
  {
   "cell_type": "code",
   "execution_count": 19,
   "id": "5da98489",
   "metadata": {},
   "outputs": [
    {
     "data": {
      "image/png": "[encoded data removed]",
      "text/plain": [
       "<Figure size 432x288 with 1 Axes>"
      ]
     },
     "metadata": {
      "needs_background": "light"
     },
     "output_type": "display_data"
    }
   ],
   "source": [
    "\n",
    "#Applying principal component analysis with principal components set to 11\n",
    "pca = PCA(n_components=11)\n",
    "pca.fit(x)\n",
    "#Creating a bar plot to identify the required principal components\n",
    "plt.bar(range(1,12), pca.explained_variance_ratio_, color='red')\n",
    "plt.title(\"PCA Visualized\")\n",
    "plt.ylabel(\"Explained variance ratio\")\n",
    "plt.xlabel(\"Principal Component\")\n",
    "plt.xticks([1,2,3,4,5,6,7,8,9,10,11])\n",
    "plt.show()"
   ]
  },
  {
   "cell_type": "markdown",
   "id": "0fa8729b",
   "metadata": {},
   "source": [
    "# Applying PCA and plotting the bar graph:\n",
    "### As observed the bar graph indicates that 11 Principal components are of significance based on the variance ratio"
   ]
  },
  {
   "cell_type": "code",
   "execution_count": 20,
   "id": "7b16901d",
   "metadata": {},
   "outputs": [
    {
     "name": "stdout",
     "output_type": "stream",
     "text": [
      "(1599, 11)\n"
     ]
    }
   ],
   "source": [
    "pca = PCA(n_components=11)\n",
    "data = pca.fit_transform(x)\n",
    "data = pd.DataFrame(data)\n",
    "print(data.shape)"
   ]
  },
  {
   "cell_type": "markdown",
   "id": "8bfafd7f",
   "metadata": {},
   "source": [
    "# Retaining the dimension as 11:\n",
    "### Transforming the data by reducing the dimensionality but in this particular case. The PCA indicates that all the principal components are of significance. So we expect the result to be same as that with the full dataset."
   ]
  },
  {
   "cell_type": "code",
   "execution_count": 21,
   "id": "c9f29df1",
   "metadata": {},
   "outputs": [
    {
     "name": "stdout",
     "output_type": "stream",
     "text": [
      "Train accuracy: 0.62\n",
      "Test accuracy: 0.57\n"
     ]
    }
   ],
   "source": [
    "reg = LogisticRegression(max_iter = 2500)\n",
    "#Using 80% data to train the model and 20% to test the data\n",
    "X_train_pca, X_test_pca, y_train, y_test = train_test_split(data, y, test_size=0.20, random_state=42)\n",
    "reg.fit(X_train_pca, y_train)\n",
    "y_pred = reg.predict(X_test_pca)\n",
    "print(\"Train accuracy:\", np.round(accuracy_score(y_train, reg.predict(X_train_pca)), 2))\n",
    "print(\"Test accuracy:\", np.round(accuracy_score(y_test, y_pred), 2))"
   ]
  },
  {
   "cell_type": "markdown",
   "id": "e4d5991a",
   "metadata": {},
   "source": [
    "# Applying logistic regression after retaining the dimensionality:\n",
    "### has yielded in the similar performance as that for the fulldata set which is as expected.\n",
    "### I believe this dimensionality reduction was a useful technique for solving this regression problem .Since the dataset, worked on contain all principal component as of significance and the performance cannot be improved any further. Also looking at the dataset, its 12 dimension which is not complex and it will not complicate regression when building the model."
   ]
  }
 ],
 "metadata": {
  "kernelspec": {
   "display_name": "Python 3",
   "language": "python",
   "name": "python3"
  },
  "language_info": {
   "codemirror_mode": {
    "name": "ipython",
    "version": 3
   },
   "file_extension": ".py",
   "mimetype": "text/x-python",
   "name": "python",
   "nbconvert_exporter": "python",
   "pygments_lexer": "ipython3",
   "version": "3.8.8"
  }
 },
 "nbformat": 4,
 "nbformat_minor": 5
}
